{
 "cells": [
  {
   "metadata": {
    "ExecuteTime": {
     "end_time": "2025-07-27T06:21:54.938115Z",
     "start_time": "2025-07-27T06:21:54.930011Z"
    }
   },
   "cell_type": "code",
   "source": [
    "from numpy.random import logseries\n",
    "\n",
    "print(\"Okk\")"
   ],
   "id": "89e126d3f943b8aa",
   "outputs": [
    {
     "name": "stdout",
     "output_type": "stream",
     "text": [
      "Okk\n"
     ]
    }
   ],
   "execution_count": 1
  },
  {
   "metadata": {},
   "cell_type": "markdown",
   "source": "### Here we are going to do experiments regarding logging",
   "id": "8e3c1a80cff1e47e"
  },
  {
   "metadata": {
    "ExecuteTime": {
     "end_time": "2025-07-27T06:25:15.477044Z",
     "start_time": "2025-07-27T06:25:15.472023Z"
    }
   },
   "cell_type": "code",
   "source": [
    "import logging\n",
    "import os\n",
    "from datetime import datetime"
   ],
   "id": "74f0290aad988f8a",
   "outputs": [],
   "execution_count": 3
  },
  {
   "metadata": {
    "ExecuteTime": {
     "end_time": "2025-07-27T06:38:23.711596Z",
     "start_time": "2025-07-27T06:38:23.698913Z"
    }
   },
   "cell_type": "code",
   "source": [
    "log_dir= os.path.join(os.getcwd(), \"logs\")\n",
    "log_dir\n",
    "## getcwd tell where i am right now - current folder name\n",
    "## logs is just a string\n",
    "\n",
    "## os.path.join = joins the two things together\n",
    "## os.path.join(os.getcwd(), \"logs\")\n",
    "##    ## this whole things takes the current folder path and join 'logs' to the end of it.\n",
    "# Note: it doesn't create a folder or file of logs"
   ],
   "id": "ac1121889c44208d",
   "outputs": [
    {
     "data": {
      "text/plain": [
       "'C:\\\\Users\\\\302sy\\\\Desktop\\\\Generative AI\\\\RAG_ETE\\\\notebook\\\\logs'"
      ]
     },
     "execution_count": 6,
     "metadata": {},
     "output_type": "execute_result"
    }
   ],
   "execution_count": 6
  },
  {
   "metadata": {
    "ExecuteTime": {
     "end_time": "2025-07-27T06:39:43.720156Z",
     "start_time": "2025-07-27T06:39:43.678333Z"
    }
   },
   "cell_type": "code",
   "source": [
    "os.makedirs(log_dir, exist_ok=True)\n",
    "\n",
    "# create folder at the location, if exits then no problem"
   ],
   "id": "b640574c3729d6c9",
   "outputs": [],
   "execution_count": 7
  },
  {
   "metadata": {
    "ExecuteTime": {
     "end_time": "2025-07-27T06:45:06.536939Z",
     "start_time": "2025-07-27T06:45:06.514576Z"
    }
   },
   "cell_type": "code",
   "source": [
    "LOG_FILE= f\"{datetime.now().strftime('%m-%d-%Y_%H-%M-%S')}.log\"\n",
    "LOG_FILE"
   ],
   "id": "4ca76eb84fbd8f2",
   "outputs": [
    {
     "data": {
      "text/plain": [
       "'07-27-2025_12-15-06.log'"
      ]
     },
     "execution_count": 9,
     "metadata": {},
     "output_type": "execute_result"
    }
   ],
   "execution_count": 9
  },
  {
   "metadata": {
    "ExecuteTime": {
     "end_time": "2025-07-27T06:46:53.060354Z",
     "start_time": "2025-07-27T06:46:53.053976Z"
    }
   },
   "cell_type": "code",
   "source": "LOG_FILE_PATH = os.path.join(log_dir, LOG_FILE)",
   "id": "621ef2d49de90da8",
   "outputs": [],
   "execution_count": 11
  },
  {
   "metadata": {
    "ExecuteTime": {
     "end_time": "2025-07-27T06:55:35.716129Z",
     "start_time": "2025-07-27T06:55:35.661101Z"
    }
   },
   "cell_type": "code",
   "source": [
    "## Executing loggings\n",
    "logging.basicConfig(\n",
    "    filename= LOG_FILE_PATH,\n",
    "    format= \"[%(asctime)s] %(levelname)s %(name)s (line: %(lineno)d) - %(message)s\",\n",
    "    level=logging.INFO\n",
    ")"
   ],
   "id": "15d3cfd3e91525f0",
   "outputs": [],
   "execution_count": 15
  },
  {
   "metadata": {
    "ExecuteTime": {
     "end_time": "2025-07-27T06:55:35.922980Z",
     "start_time": "2025-07-27T06:55:35.909519Z"
    }
   },
   "cell_type": "code",
   "source": "logging.getLogger(\"DocumentPortal\").info(\"logging setup completed.\")",
   "id": "c044e8df25723c2f",
   "outputs": [],
   "execution_count": 16
  },
  {
   "metadata": {
    "ExecuteTime": {
     "end_time": "2025-07-28T13:13:04.598514Z",
     "start_time": "2025-07-28T13:13:04.563859Z"
    }
   },
   "cell_type": "code",
   "source": [
    "import os\n",
    "\n",
    "os.getcwd()"
   ],
   "id": "a95de91c3d2f8acc",
   "outputs": [
    {
     "data": {
      "text/plain": [
       "'C:\\\\Users\\\\302sy\\\\Desktop\\\\Generative AI\\\\RAG_ETE\\\\notebook'"
      ]
     },
     "execution_count": 1,
     "metadata": {},
     "output_type": "execute_result"
    }
   ],
   "execution_count": 1
  },
  {
   "metadata": {
    "ExecuteTime": {
     "end_time": "2025-07-28T13:13:39.314342Z",
     "start_time": "2025-07-28T13:13:39.295537Z"
    }
   },
   "cell_type": "code",
   "source": "os.path.join(os.getcwd(), \"Anything\")",
   "id": "b1bb6a5c66818fa8",
   "outputs": [
    {
     "data": {
      "text/plain": [
       "'C:\\\\Users\\\\302sy\\\\Desktop\\\\Generative AI\\\\RAG_ETE\\\\notebook\\\\Anything'"
      ]
     },
     "execution_count": 3,
     "metadata": {},
     "output_type": "execute_result"
    }
   ],
   "execution_count": 3
  },
  {
   "metadata": {},
   "cell_type": "code",
   "outputs": [],
   "execution_count": null,
   "source": "os.makedirs",
   "id": "f5364fd8b64da5ed"
  },
  {
   "metadata": {
    "ExecuteTime": {
     "end_time": "2025-07-28T14:45:09.700494Z",
     "start_time": "2025-07-28T14:45:09.670668Z"
    }
   },
   "cell_type": "code",
   "source": "os.path.basename(\"C:\\\\Users\\\\302sy\\Desktop\\Generative AI\\RAG_ETE\\\\notebook\\logging_experiment.ipynb\")",
   "id": "c085376086b86944",
   "outputs": [
    {
     "name": "stderr",
     "output_type": "stream",
     "text": [
      "<>:1: SyntaxWarning: invalid escape sequence '\\D'\n",
      "<>:1: SyntaxWarning: invalid escape sequence '\\D'\n",
      "C:\\Users\\302sy\\AppData\\Local\\Temp\\ipykernel_20416\\1384734743.py:1: SyntaxWarning: invalid escape sequence '\\D'\n",
      "  os.path.basename(\"C:\\\\Users\\\\302sy\\Desktop\\Generative AI\\RAG_ETE\\\\notebook\\logging_experiment.ipynb\")\n"
     ]
    },
    {
     "data": {
      "text/plain": [
       "'logging_experiment.ipynb'"
      ]
     },
     "execution_count": 8,
     "metadata": {},
     "output_type": "execute_result"
    }
   ],
   "execution_count": 8
  },
  {
   "metadata": {},
   "cell_type": "code",
   "outputs": [],
   "execution_count": null,
   "source": "",
   "id": "e8f75e29a35bb369"
  }
 ],
 "metadata": {},
 "nbformat": 4,
 "nbformat_minor": 5
}
