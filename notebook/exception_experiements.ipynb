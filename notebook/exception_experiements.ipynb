{
 "cells": [
  {
   "cell_type": "code",
   "id": "initial_id",
   "metadata": {
    "collapsed": true,
    "ExecuteTime": {
     "end_time": "2025-07-27T17:03:32.394369Z",
     "start_time": "2025-07-27T17:03:32.388178Z"
    }
   },
   "source": "print(\"all ok\")",
   "outputs": [
    {
     "name": "stdout",
     "output_type": "stream",
     "text": [
      "all ok\n"
     ]
    }
   ],
   "execution_count": 2
  },
  {
   "metadata": {},
   "cell_type": "markdown",
   "source": "### Experimenting with the exception",
   "id": "c7eaec0df1913967"
  },
  {
   "metadata": {
    "ExecuteTime": {
     "end_time": "2025-07-27T17:03:33.680735Z",
     "start_time": "2025-07-27T17:03:33.676225Z"
    }
   },
   "cell_type": "code",
   "source": [
    "import sys\n",
    "import traceback"
   ],
   "id": "fb1c1d04ad5cf588",
   "outputs": [],
   "execution_count": 3
  },
  {
   "metadata": {
    "ExecuteTime": {
     "end_time": "2025-07-27T17:03:34.652323Z",
     "start_time": "2025-07-27T17:03:34.591346Z"
    }
   },
   "cell_type": "code",
   "source": [
    " class DocumentPortalException(Exception):\n",
    "    def __init__(self, error_message:str, error_details:sys):\n",
    "        _, _, exc_tb= error_details.exc_info() # tb: traceback\n",
    "        self.file_name= exc_tb.tb_frame.f_code.co_filename\n",
    "        self.line_number= exc_tb.tb_lineno\n",
    "        self.error_message= str(error_message)\n",
    "        self.traceback_str= \"\".join(traceback.format_exception(*error_details.exc_info()))\n",
    "\n",
    "\n",
    "    def __str__(self):\n",
    "        # return human-readable string\n",
    "        return f\"\"\"\n",
    "            Error in [{self.file_name}] at line [{self.line_number}]\n",
    "            Message: {self.error_message}\n",
    "            Traceback: {self.traceback_str}\n",
    "            \"\"\"\n",
    "\n",
    "if __name__ == '__main__':\n",
    "    try:\n",
    "        # simulate an error\n",
    "        a= 1/ 0 # gives error\n",
    "        print(a)\n",
    "    except Exception as e:\n",
    "        app_exc= DocumentPortalException(e, sys)\n",
    "        raise app_exc"
   ],
   "id": "1066d06ca803dc1f",
   "outputs": [
    {
     "ename": "DocumentPortalException",
     "evalue": "\n            Error in [C:\\Users\\302sy\\AppData\\Local\\Temp\\ipykernel_27016\\931514413.py] at line [21]\n            Message: division by zero\n            Traceback: Traceback (most recent call last):\n  File \"C:\\Users\\302sy\\AppData\\Local\\Temp\\ipykernel_27016\\931514413.py\", line 21, in <module>\n    a= 1/ 0 # gives error\n       ~^~~\nZeroDivisionError: division by zero\n\n            ",
     "output_type": "error",
     "traceback": [
      "\u001B[31m---------------------------------------------------------------------------\u001B[39m",
      "\u001B[31mZeroDivisionError\u001B[39m                         Traceback (most recent call last)",
      "\u001B[36mCell\u001B[39m\u001B[36m \u001B[39m\u001B[32mIn[4]\u001B[39m\u001B[32m, line 21\u001B[39m\n\u001B[32m     19\u001B[39m \u001B[38;5;28;01mtry\u001B[39;00m:\n\u001B[32m     20\u001B[39m     \u001B[38;5;66;03m# simulate an error\u001B[39;00m\n\u001B[32m---> \u001B[39m\u001B[32m21\u001B[39m     a= \u001B[32m1\u001B[39m/ \u001B[32m0\u001B[39m \u001B[38;5;66;03m# gives error\u001B[39;00m\n\u001B[32m     22\u001B[39m     \u001B[38;5;28mprint\u001B[39m(a)\n",
      "\u001B[31mZeroDivisionError\u001B[39m: division by zero",
      "\nDuring handling of the above exception, another exception occurred:\n",
      "\u001B[31mDocumentPortalException\u001B[39m                   Traceback (most recent call last)",
      "\u001B[36mCell\u001B[39m\u001B[36m \u001B[39m\u001B[32mIn[4]\u001B[39m\u001B[32m, line 25\u001B[39m\n\u001B[32m     23\u001B[39m \u001B[38;5;28;01mexcept\u001B[39;00m \u001B[38;5;167;01mException\u001B[39;00m \u001B[38;5;28;01mas\u001B[39;00m e:\n\u001B[32m     24\u001B[39m     app_exc= DocumentPortalException(e, sys)\n\u001B[32m---> \u001B[39m\u001B[32m25\u001B[39m     \u001B[38;5;28;01mraise\u001B[39;00m app_exc\n",
      "\u001B[31mDocumentPortalException\u001B[39m: \n            Error in [C:\\Users\\302sy\\AppData\\Local\\Temp\\ipykernel_27016\\931514413.py] at line [21]\n            Message: division by zero\n            Traceback: Traceback (most recent call last):\n  File \"C:\\Users\\302sy\\AppData\\Local\\Temp\\ipykernel_27016\\931514413.py\", line 21, in <module>\n    a= 1/ 0 # gives error\n       ~^~~\nZeroDivisionError: division by zero\n\n            "
     ]
    }
   ],
   "execution_count": 4
  },
  {
   "metadata": {},
   "cell_type": "markdown",
   "source": [
    "### Working just fine as we wanted\n",
    "**Next steps**\n",
    "- Log this info(file, cloud config, command prompt)- (it will keep the record of the error but do not stop the execution of the code)\n",
    "- Raise the exception(if raised it will stop the execution of the code"
   ],
   "id": "72b9c52df6176ba8"
  },
  {
   "metadata": {
    "ExecuteTime": {
     "end_time": "2025-07-27T17:23:46.502425Z",
     "start_time": "2025-07-27T17:23:46.398933Z"
    }
   },
   "cell_type": "code",
   "source": "from logger.custom_logger import CustomLogger",
   "id": "fc111ec95fbae042",
   "outputs": [],
   "execution_count": 22
  },
  {
   "metadata": {
    "ExecuteTime": {
     "end_time": "2025-07-27T17:23:47.479203Z",
     "start_time": "2025-07-27T17:23:47.470147Z"
    }
   },
   "cell_type": "code",
   "source": "logger= CustomLogger()",
   "id": "56e7a3e2d0240ada",
   "outputs": [],
   "execution_count": 23
  },
  {
   "metadata": {
    "ExecuteTime": {
     "end_time": "2025-07-27T17:23:48.009326Z",
     "start_time": "2025-07-27T17:23:47.989721Z"
    }
   },
   "cell_type": "code",
   "source": "logger",
   "id": "c77a4f4aaca77632",
   "outputs": [
    {
     "data": {
      "text/plain": [
       "<logger.customs_logs.CustomLogger at 0x1c9372d6240>"
      ]
     },
     "execution_count": 24,
     "metadata": {},
     "output_type": "execute_result"
    }
   ],
   "execution_count": 24
  },
  {
   "metadata": {
    "ExecuteTime": {
     "end_time": "2025-07-27T17:23:49.290837Z",
     "start_time": "2025-07-27T17:23:49.277437Z"
    }
   },
   "cell_type": "code",
   "source": "logger= logger.get_logger('exception_experiements')",
   "id": "977b1e81c4795ec4",
   "outputs": [],
   "execution_count": 25
  },
  {
   "metadata": {
    "ExecuteTime": {
     "end_time": "2025-07-27T17:23:51.160358Z",
     "start_time": "2025-07-27T17:23:51.155819Z"
    }
   },
   "cell_type": "code",
   "source": "print(logger)",
   "id": "ccaecacb76fa1e9d",
   "outputs": [
    {
     "name": "stdout",
     "output_type": "stream",
     "text": [
      "None\n"
     ]
    }
   ],
   "execution_count": 26
  },
  {
   "metadata": {
    "ExecuteTime": {
     "end_time": "2025-07-27T17:17:50.910548Z",
     "start_time": "2025-07-27T17:17:50.816218Z"
    }
   },
   "cell_type": "code",
   "source": [
    "class DocumentPortalException(Exception):\n",
    "    def __init__(self, error_message:str, error_details:sys):\n",
    "        _, _, exc_tb= error_details.exc_info() # tb: traceback\n",
    "        self.file_name= exc_tb.tb_frame.f_code.co_filename\n",
    "        self.line_number= exc_tb.tb_lineno\n",
    "        self.error_message= str(error_message)\n",
    "        self.traceback_str= \"\".join(traceback.format_exception(*error_details.exc_info()))\n",
    "\n",
    "\n",
    "    def __str__(self):\n",
    "        # return human-readable string\n",
    "        return f\"\"\"\n",
    "            Error in [{self.file_name}] at line [{self.line_number}]\n",
    "            Message: {self.error_message}\n",
    "            Traceback: {self.traceback_str}\n",
    "            \"\"\"\n",
    "\n",
    "if __name__ == '__main__':\n",
    "    try:\n",
    "        # simulate an error\n",
    "        a= 1/ 0 # gives error\n",
    "        print(a)\n",
    "    except Exception as e:\n",
    "        app_exc= DocumentPortalException(e, sys)\n",
    "        logger.error(app_exc)\n",
    "        raise app_exc"
   ],
   "id": "695edb7e3f5f35d5",
   "outputs": [
    {
     "ename": "AttributeError",
     "evalue": "'NoneType' object has no attribute 'error'",
     "output_type": "error",
     "traceback": [
      "\u001B[31m---------------------------------------------------------------------------\u001B[39m",
      "\u001B[31mZeroDivisionError\u001B[39m                         Traceback (most recent call last)",
      "\u001B[36mCell\u001B[39m\u001B[36m \u001B[39m\u001B[32mIn[15]\u001B[39m\u001B[32m, line 21\u001B[39m\n\u001B[32m     19\u001B[39m \u001B[38;5;28;01mtry\u001B[39;00m:\n\u001B[32m     20\u001B[39m     \u001B[38;5;66;03m# simulate an error\u001B[39;00m\n\u001B[32m---> \u001B[39m\u001B[32m21\u001B[39m     a= \u001B[32m1\u001B[39m/ \u001B[32m0\u001B[39m \u001B[38;5;66;03m# gives error\u001B[39;00m\n\u001B[32m     22\u001B[39m     \u001B[38;5;28mprint\u001B[39m(a)\n",
      "\u001B[31mZeroDivisionError\u001B[39m: division by zero",
      "\nDuring handling of the above exception, another exception occurred:\n",
      "\u001B[31mAttributeError\u001B[39m                            Traceback (most recent call last)",
      "\u001B[36mCell\u001B[39m\u001B[36m \u001B[39m\u001B[32mIn[15]\u001B[39m\u001B[32m, line 25\u001B[39m\n\u001B[32m     23\u001B[39m \u001B[38;5;28;01mexcept\u001B[39;00m \u001B[38;5;167;01mException\u001B[39;00m \u001B[38;5;28;01mas\u001B[39;00m e:\n\u001B[32m     24\u001B[39m     app_exc= DocumentPortalException(e, sys)\n\u001B[32m---> \u001B[39m\u001B[32m25\u001B[39m     logger.error(app_exc)\n\u001B[32m     26\u001B[39m     \u001B[38;5;28;01mraise\u001B[39;00m app_exc\n",
      "\u001B[31mAttributeError\u001B[39m: 'NoneType' object has no attribute 'error'"
     ]
    }
   ],
   "execution_count": 15
  },
  {
   "metadata": {
    "ExecuteTime": {
     "end_time": "2025-07-27T17:21:38.021614Z",
     "start_time": "2025-07-27T17:21:38.014616Z"
    }
   },
   "cell_type": "code",
   "source": "logger",
   "id": "4a77496f298796b8",
   "outputs": [],
   "execution_count": 16
  },
  {
   "metadata": {
    "ExecuteTime": {
     "end_time": "2025-07-27T17:21:45.801798Z",
     "start_time": "2025-07-27T17:21:45.795740Z"
    }
   },
   "cell_type": "code",
   "source": "print(logger)",
   "id": "24b24f695af2539",
   "outputs": [
    {
     "name": "stdout",
     "output_type": "stream",
     "text": [
      "None\n"
     ]
    }
   ],
   "execution_count": 17
  },
  {
   "metadata": {
    "ExecuteTime": {
     "end_time": "2025-07-29T13:56:15.111987Z",
     "start_time": "2025-07-29T13:56:15.102662Z"
    }
   },
   "cell_type": "code",
   "source": "print(\"all ok\")",
   "id": "62a471b815b648a9",
   "outputs": [
    {
     "name": "stdout",
     "output_type": "stream",
     "text": [
      "all ok\n"
     ]
    }
   ],
   "execution_count": 1
  },
  {
   "metadata": {},
   "cell_type": "markdown",
   "source": [
    "import sys\n",
    "\n",
    "what is it actually?\n",
    "- System specific parameters and functions\n",
    "- it basically monitors application on what is happening.\n",
    "\n",
    "import traceback\n",
    "\n",
    "- When something is happened to our application like crash or something\n",
    "- It's the chain of events that occured so trace back draws map of errors\n",
    "- map of what happened, in what order and where it happened."
   ],
   "id": "8e491ef0e018f400"
  },
  {
   "metadata": {},
   "cell_type": "markdown",
   "source": [
    "*sys.exc_info()\n",
    "- What's that * before sys.\n",
    "- if there is tuple/list then it unpacks it, just like the below example"
   ],
   "id": "6ffa84166484bb9e"
  },
  {
   "metadata": {
    "ExecuteTime": {
     "end_time": "2025-07-29T14:15:00.776902Z",
     "start_time": "2025-07-29T14:15:00.769531Z"
    }
   },
   "cell_type": "code",
   "source": [
    "lunchbox = [\"sandwich\", \"juice\", \"apple\"]\n",
    "def eat(main, drink, fruit):\n",
    "    print(f\"Today’s breakfast has:\")\n",
    "    print(f\"- Main dish: {main}\")\n",
    "    print(f\"- Drink: {drink}\")\n",
    "    print(f\"- Fruit: {fruit}\")\n",
    "    print(\"Yum! 😋\\n\")\n"
   ],
   "id": "1f05c356024c02d3",
   "outputs": [],
   "execution_count": 11
  },
  {
   "metadata": {
    "ExecuteTime": {
     "end_time": "2025-07-29T14:15:37.053238Z",
     "start_time": "2025-07-29T14:15:37.046209Z"
    }
   },
   "cell_type": "code",
   "source": "meals= ['bread', 'rasam', 'samber']",
   "id": "c2c66f6511b76105",
   "outputs": [],
   "execution_count": 14
  },
  {
   "metadata": {
    "ExecuteTime": {
     "end_time": "2025-07-29T14:15:43.195074Z",
     "start_time": "2025-07-29T14:15:43.189108Z"
    }
   },
   "cell_type": "code",
   "source": "eat(*meals)",
   "id": "255a54dc7cb6df61",
   "outputs": [
    {
     "name": "stdout",
     "output_type": "stream",
     "text": [
      "Today’s breakfast has:\n",
      "- Main dish: bread\n",
      "- Drink: rasam\n",
      "- Fruit: samber\n",
      "Yum! 😋\n",
      "\n"
     ]
    }
   ],
   "execution_count": 15
  },
  {
   "metadata": {},
   "cell_type": "code",
   "outputs": [],
   "execution_count": null,
   "source": [
    "class DocumentPortalException(Exception):\n",
    "    \"\"\"\n",
    "    Custome exception for document protal\n",
    "    \"\"\"\n",
    "    def __inti__(self,error_message):\n",
    "        _,_, exc_tb= sys.exc_info()\n",
    "        self.file_name= exc_tb.tb_frame.f_code.co_filename\n",
    "        self.lineno= exc.tb_lineno\n",
    "\n"
   ],
   "id": "fd8308c9608b4ade"
  },
  {
   "metadata": {
    "ExecuteTime": {
     "end_time": "2025-07-29T14:18:01.285296Z",
     "start_time": "2025-07-29T14:18:01.260616Z"
    }
   },
   "cell_type": "code",
   "source": "sys.exc_info()",
   "id": "a1cf7bf08e1262ab",
   "outputs": [
    {
     "data": {
      "text/plain": [
       "(None, None, None)"
      ]
     },
     "execution_count": 16,
     "metadata": {},
     "output_type": "execute_result"
    }
   ],
   "execution_count": 16
  },
  {
   "metadata": {},
   "cell_type": "code",
   "outputs": [],
   "execution_count": null,
   "source": "",
   "id": "3b291f4eebfea62b"
  }
 ],
 "metadata": {
  "kernelspec": {
   "display_name": "Python 3",
   "language": "python",
   "name": "python3"
  },
  "language_info": {
   "codemirror_mode": {
    "name": "ipython",
    "version": 2
   },
   "file_extension": ".py",
   "mimetype": "text/x-python",
   "name": "python",
   "nbconvert_exporter": "python",
   "pygments_lexer": "ipython2",
   "version": "2.7.6"
  }
 },
 "nbformat": 4,
 "nbformat_minor": 5
}
